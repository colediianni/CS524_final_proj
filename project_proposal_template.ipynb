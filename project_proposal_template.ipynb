{
 "cells": [
  {
   "cell_type": "markdown",
   "metadata": {},
   "source": [
    "### CS/ECE/ISyE 524 &mdash; Introduction to Optimization &mdash; Spring 2023 ###\n",
    "\n",
    "# Automatic Image Warping and Alignment #\n",
    "\n",
    "#### Student 1 diianni@wisc.edu\n",
    "#### Student 2 iraz@cs.wisc.edu \n",
    "#### Student 3 nitzan@cs.wisc.edu\n",
    "\n"
   ]
  },
  {
   "cell_type": "markdown",
   "metadata": {},
   "source": [
    "#### Please insert your answers in the cells below. Use only Markdown notation, not Julia code"
   ]
  },
  {
   "cell_type": "markdown",
   "metadata": {},
   "source": [
    "### (A) Issue being addressed in this project"
   ]
  },
  {
   "cell_type": "markdown",
   "metadata": {},
   "source": [
    "Our porject is about aligning images. One of the problems is finding a better metric for image differences. Specicfically, we found that the $L_2$ norm distance is too rigid so we aim to find a better metric. For example, a checkboard pattern of black and white tiles compares to the same pattern shifted over 1 pixel would be as dissimilar as possible according to the $L_2$ distance, but semantically has the same information. Thus, we're looking to develop a MIP which would allow pixels to shift and warp such that the $L_2$ distance between the source and target image is minimized while maintaining pixel ordering."
   ]
  },
  {
   "cell_type": "markdown",
   "metadata": {},
   "source": [
    "### (B) What kind of data will you need, where will it come from, and how will you obtain it?"
   ]
  },
  {
   "cell_type": "markdown",
   "metadata": {},
   "source": [
    "We will use images from the MNIST dataset (dataset for handwritten digits 0-9). This dataset is good because it's low resolution (helps make problem solving quick), and handwritten digits have the same semantic information (0-9), but are wrapped compared to one another, given handwriting differences."
   ]
  },
  {
   "cell_type": "markdown",
   "metadata": {},
   "source": [
    "### (C) What is the optimization problem underlying this project? (LP, QP, SOCP, MIP, NLP, other?)"
   ]
  },
  {
   "cell_type": "markdown",
   "metadata": {},
   "source": [
    "This optimization problem will make use of MIP.\n",
    "A potential form of the problem is:\n",
    "Let $P$ be the set of all $(x,y)$ pixel coordinates, and $I_S$ be the source image values, and $I_T$ be the destination image, buth indexed by $P$. We define $SHIFT$ to be a matrix of decision variables for each $(x,y)$ coordinate representing if the pixel will be shifted by $(\\delta_x,\\delta_y)$ in the target image.\n",
    "\n",
    "The first constraint represents the requirement that all of the variables are binary, and the second constraint represents the requirement that all source pixels are used at least once, and the third constraint enforces that all destination pixels are mapped to by a source pixel. Lastly, there is a fourth constraint (that is not written), which represents relative order of the pixels: every pixel to the left of another one can not be shifted to a pixel which is to the right of the destination of the other pixel (they must maintain relative order). That is to say, pixels mustn't criss-cross.\n",
    "\n",
    "$$\\begin{align*}\n",
    "&\\min_{SHIFT_{x,y, \\delta_x, \\delta_y}} &\\sum_{(x,y, \\delta_x, \\delta_y)} \\left(I_S(x,y) - I_T(x+\\delta_x,y+\\delta_y)\\right)^2 \\cdot SHIFT_{x,y,\\delta_x,\\delta_y} + SHIFT_{x,y,\\delta_x,\\delta_y} \\\\\n",
    "&\\text{S.T} &SHIFT_{x,y,\\delta_x,\\delta_y}\\in \\{0,1\\} \\\\\n",
    "&& \\sum_{\\delta_x,\\delta_y} SHIFT_{x,y,\\delta_x,\\delta_y} \\geq 1 && \\forall (x,y)\\in P \\\\\n",
    "&& \\sum_{\\delta_x,\\delta_y} SHIFT_{x-\\delta_x,y-\\delta_y,\\delta_x,\\delta_y} \\geq 1 && \\forall (x,y)\\in P\n",
    "\\end{align*}$$"
   ]
  },
  {
   "cell_type": "markdown",
   "metadata": {},
   "source": [
    "### (D) What will you deliver in terms of code, results, outcomes?"
   ]
  },
  {
   "cell_type": "markdown",
   "metadata": {},
   "source": [
    "We shall deliver the source code for the project, which takes in the source and destination images, and returns a value representing their similarity (the objective value). We will also deliver a similarity matrix representing how similar different digits are. We will also show before and after images."
   ]
  },
  {
   "cell_type": "markdown",
   "metadata": {},
   "source": [
    "### (E) Other points to be considered."
   ]
  },
  {
   "cell_type": "markdown",
   "metadata": {},
   "source": [
    "None"
   ]
  }
 ],
 "metadata": {
  "kernelspec": {
   "display_name": "Julia 1.8.5",
   "language": "julia",
   "name": "julia-1.8"
  },
  "language_info": {
   "file_extension": ".jl",
   "mimetype": "application/julia",
   "name": "julia",
   "version": "1.8.5"
  }
 },
 "nbformat": 4,
 "nbformat_minor": 1
}
